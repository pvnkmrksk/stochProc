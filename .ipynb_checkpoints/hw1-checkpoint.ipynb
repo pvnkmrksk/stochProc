{
 "cells": [
  {
   "cell_type": "code",
   "execution_count": null,
   "metadata": {
    "collapsed": false
   },
   "outputs": [],
   "source": [
    "import numpy as np\n",
    "import matplotlib.pyplot as plt\n",
    "# import seaborn as sns\n",
    "import pandas as pd\n"
   ]
  },
  {
   "cell_type": "code",
   "execution_count": 2,
   "metadata": {
    "collapsed": false
   },
   "outputs": [],
   "source": [
    "#define needed functions\n",
    "def bern(size=100,items=[1,0],p=0.5):\n",
    "    '''\n",
    "    bernoulli random number generator\n",
    "    \n",
    "    size = length of the array\n",
    "    items = the possible outcomes\n",
    "    p = the probability of the 1st outcome \n",
    "\n",
    "    Returns an array of bernoulli random numbers\n",
    "\n",
    "    '''\n",
    "    return np.random.choice(items, size=size, p=[p,1-p])\n",
    "\n",
    "#break up the list into tiny lists of len nbits \n",
    "def splitter(bigList,splitSize=10):\n",
    "    '''\n",
    "    Takes a large list and breaks into equal chunks\n",
    "    bigList = The input list to be broken up\n",
    "    splitSize = The size of a single chunk\n",
    "    '''\n",
    "    return [bigList[i:i + splitSize] for i in xrange(0, len(bigList), splitSize)]\n",
    "\n",
    "#magic function which converts a list of numbers into a single number  \n",
    "def magic(numList):\n",
    "    '''\n",
    "    convert a list of numbers to a single number\n",
    "    numList : a list with numbers\n",
    "    '''\n",
    "    #convert the list items to string, then concatenate it to a single string of numbers. Then cast it to int \n",
    "    s = int(''.join(map(str, numList)))\n",
    "    return (s)\n",
    "\n",
    "#inter function to convert a binary number to decimal integer\n",
    "def inter(num):\n",
    "    '''\n",
    "    converts a binary number to integer\n",
    "    num : number to \"inter\"ed\n",
    "    '''\n",
    "#     return int(num)\n",
    "    return int(str(num),2)\n",
    "\n",
    "def bernInt(size=100,nBits=10,items=[0,1],p=0.5):\n",
    "\n",
    "    return map(inter,map(magic,splitter(bern(size=nBits*N,p=p,items=items),nBits)))\n",
    "\n"
   ]
  },
  {
   "cell_type": "code",
   "execution_count": 5,
   "metadata": {
    "collapsed": false
   },
   "outputs": [
    {
     "data": {
      "text/plain": [
       "<matplotlib.figure.Figure at 0x7fd612453110>"
      ]
     },
     "metadata": {},
     "output_type": "display_data"
    },
    {
     "data": {
      "image/png": "[encoded data removed]",
      "text/plain": [
       "<matplotlib.figure.Figure at 0x7fd6147e7910>"
      ]
     },
     "metadata": {},
     "output_type": "display_data"
    }
   ],
   "source": [
    "#hw1 q2\n",
    "nBits=10\n",
    "simN=[10,100,1000,10000]\n",
    "f,ax=plt.subplots(len(simN), sharex=True, sharey=True)\n",
    "i=0\n",
    "for N in simN:\n",
    "    b=bernInt(size=nBits*N,nBits=nBits)\n",
    "    results, edges=np.histogram(b,bins=10, normed=True)\n",
    "    binWidth = edges[1] - edges[0]\n",
    "    ax[i].bar(edges[:-1], results*binWidth, binWidth-10,)\n",
    "    ax[i].set_title('N = '+str(N))\n",
    "    i+=1\n",
    "plt.tight_layout()\n",
    "plt.show()\n",
    "plt.savefig('uniform.png',dpi=300)\n"
   ]
  },
  {
   "cell_type": "code",
   "execution_count": 6,
   "metadata": {
    "collapsed": false
   },
   "outputs": [
    {
     "name": "stdout",
     "output_type": "stream",
     "text": [
      "mean is 0.026\n",
      "variance is 0.722724\n",
      "mean is -0.1166\n",
      "variance is 0.78787244\n",
      "mean is 0.0121\n",
      "variance is 0.99762279\n",
      "mean is 0.012398\n",
      "variance is 1.0128392896\n"
     ]
    },
    {
     "data": {
      "text/plain": [
       "<matplotlib.figure.Figure at 0x7fd612491cd0>"
      ]
     },
     "metadata": {},
     "output_type": "display_data"
    },
    {
     "data": {
      "image/png": "[encoded data removed]",
      "text/plain": [
       "<matplotlib.figure.Figure at 0x7fd611debf10>"
      ]
     },
     "metadata": {},
     "output_type": "display_data"
    }
   ],
   "source": [
    "#hw1 q3\n",
    "simN=[10,100,1000,10000]\n",
    "f,ax=plt.subplots(len(simN), sharex=True)\n",
    "i=0\n",
    "# N=1000\n",
    "for N in simN:\n",
    "    nBits=10000\n",
    "    st=0.01\n",
    "    \n",
    "    b=bern(size=nBits*N,items=[-1*st,1*st])\n",
    "    s=splitter(b,splitSize=nBits)\n",
    "    def meaner(myList):\n",
    "        return np.sum(myList)\n",
    "    m=map(meaner,s)\n",
    "    titl=\"mean is \"+ str(np.mean(m))+\" variance is \"+ str(np.var(m)) +'    N = '+str(N)\n",
    "    print \"mean is\",np.mean(m)\n",
    "    print \"variance is\",np.var(m)\n",
    "    results, edges=np.histogram(m,bins=20, normed=True)\n",
    "    binWidth = edges[1] - edges[0]\n",
    "    ax[i].bar(edges[:-1], results*binWidth, binWidth,)\n",
    "    ax[i].set_title(titl)\n",
    "#     ax[i].hist(m,bins=20,range=(-5,5))\n",
    "    i+=1\n",
    "plt.tight_layout()\n",
    "\n",
    "    # rstyle(ax)\n",
    "plt.show()\n",
    "plt.savefig('gaussian.png',dpi=300)\n"
   ]
  },
  {
   "cell_type": "code",
   "execution_count": null,
   "metadata": {
    "collapsed": true
   },
   "outputs": [],
   "source": []
  },
  {
   "cell_type": "code",
   "execution_count": null,
   "metadata": {
    "collapsed": true
   },
   "outputs": [],
   "source": []
  },
  {
   "cell_type": "code",
   "execution_count": null,
   "metadata": {
    "collapsed": true
   },
   "outputs": [],
   "source": []
  },
  {
   "cell_type": "markdown",
   "metadata": {},
   "source": [
    "Trying a random walker "
   ]
  },
  {
   "cell_type": "code",
   "execution_count": null,
   "metadata": {
    "collapsed": false
   },
   "outputs": [],
   "source": [
    "class walk():\n",
    "    def __init__(self,stepSize,steps):\n",
    "        self.stepSize=stepSize\n",
    "        self.steps=steps\n",
    "        self.t=0\n",
    "        self.pos=0\n",
    "        \n",
    "    def step(self):\n",
    "        if self.t<self.steps:\n",
    "            p=0.5\n",
    "            self.pos+=np.random.choice([-1,1], size=1, p=[1-p,p])[0]\n",
    "            self.t+=1\n",
    "            return self.pos\n",
    "        else:\n",
    "            print 'time out'\n",
    "            raise IndexError\n",
    "m=[]\n",
    "for i in range(100):\n",
    "    print i\n",
    "    w=walk(1./8,100)\n",
    "    running=True\n",
    "    p=[]\n",
    "    while running:\n",
    "        try:\n",
    "            p.append(w.step())\n",
    "        except IndexError:\n",
    "            running=False\n",
    "    m.append(p)\n",
    "    plt.plot(p,alpha=0.2)\n",
    "plt.show()\n",
    "        "
   ]
  },
  {
   "cell_type": "code",
   "execution_count": null,
   "metadata": {
    "collapsed": false
   },
   "outputs": [],
   "source": [
    "df=pd.DataFrame(m)\n",
    "for i in range(0,100,10):\n",
    "    df.ix[:,i].hist(bins=range(-20,20,4),alpha=0.3)\n",
    "# Make a list by cycling through the colors you care about\n",
    "# to match the length of your data.\n",
    "cmap = plt.get_cmap('viridis')\n",
    "indices = np.linspace(0, cmap.N, len(df))\n",
    "my_colors = [cmap(int(i)) for i in indices]\n",
    "\n",
    "plt.show()"
   ]
  },
  {
   "cell_type": "code",
   "execution_count": null,
   "metadata": {
    "collapsed": false
   },
   "outputs": [],
   "source": [
    "from matplotlib import pyplot as plt\n",
    "import pandas, numpy as np  # I find np.random.randint to be better\n",
    "\n",
    "# Make the data\n",
    "x = [{i:np.random.randint(1,5)} for i in range(10)]\n",
    "df = pandas.DataFrame(x)\n",
    "\n",
    "# Make a list by cycling through the colors you care about\n",
    "# to match the length of your data.\n",
    "cmap = plt.get_cmap('cubehelix')\n",
    "indices = np.linspace(0, cmap.N, len(x))\n",
    "my_colors = [cmap(int(i)) for i in indices]\n",
    "\n",
    "# Specify this list of colors as the `color` option to `plot`.\n",
    "df.plot(kind='bar', stacked=True, color=my_colors)"
   ]
  },
  {
   "cell_type": "code",
   "execution_count": null,
   "metadata": {
    "collapsed": true
   },
   "outputs": [],
   "source": [
    "plt.show()"
   ]
  }
 ],
 "metadata": {
  "kernelspec": {
   "display_name": "Python 2",
   "language": "python",
   "name": "python2"
  },
  "language_info": {
   "codemirror_mode": {
    "name": "ipython",
    "version": 2
   },
   "file_extension": ".py",
   "mimetype": "text/x-python",
   "name": "python",
   "nbconvert_exporter": "python",
   "pygments_lexer": "ipython2",
   "version": "2.7.6"
  }
 },
 "nbformat": 4,
 "nbformat_minor": 2
}
