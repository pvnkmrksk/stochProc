{
 "cells": [
  {
   "cell_type": "code",
   "execution_count": 1,
   "metadata": {
    "collapsed": true
   },
   "outputs": [],
   "source": [
    "import numpy as np\n",
    "import matplotlib.pyplot as plt"
   ]
  },
  {
   "cell_type": "code",
   "execution_count": 74,
   "metadata": {
    "collapsed": true
   },
   "outputs": [],
   "source": [
    "s='''Format: Please stay within the word limit and provide the word count for each paragraph.\n",
    "    1. Question or problem to be addressed (50 words)\n",
    "    2. Background to the problem (300 words)\n",
    "    3. Experiment to address the problem (300 words)\n",
    "    4. Expected outcomes and alternative strategy if necessary (100 words)\n",
    "5. References (up to 10)\n",
    "\n",
    "1. How does Acacia auriculiformis which belongs to the family that disperses ballistically bypass its phylogenetic constraint and disperse biotically?\n",
    "\n",
    "2. I found some shrivelled up pods on a tree which seemed to have exploded, but the seeds were still hanging out of the pod from a bright orange thread like structure that connects the seed and the pod (aril). So, I went about identifying the plant as Acacia auriculiformis. Plants in the family Fabaceae, disperse their seeds ballistically. For example- legumes (subfamily - Papilionoideae). But, Acacia which also belongs to the Fabaceae family, doesn’t seem to be ballistically dispersed. Also during identification I came across another species called Pithecellobium dulce also belonging to the same family and subfamily (Mimosoideae) as Acacia that has pods that look similar morphologically. Most of the work in these species suggest that they depend on birds, insects or mammals for dispersal. With the available phylogeny, I found that the Acacia group is a highly diverse clade and in the sister species the seed diaspore is differently coloured.  How did a clade which typically dispersed via explosion diverge into dispersing biotically? To answer this you need to answer a few other questions. Does it at all disperse disperse biotically? If yes, what is different between biotically dispersed and abiotically dispersed seeds?  What is the function of the seed diaspore?\n",
    "\n",
    "3 and 4 -\n",
    "To answer if it at all disperses biotically, our null hypothesis is that dispersion is only via abiotic means, i.e. seed disperses due to gravity and wind. The alternate is that biotic factors are involved. To test this, we can take two trees which are in similar environments and surround one tree with a large cage to prevent any biotic players such as birds and rodents from dispersing. If the dispersibility is identical, it would suggest that biotic factors don’t seem to be important, else there is some biotic interaction happening.\n",
    "\n",
    "It has been shown that seed diaspores attract birds in a related species[2]. The next question to answer is the function of the aril? The null hypothesis is that the aril has no particular function and is just a historical side effect. The alternative being that the aril hinders dispersion via explosion. To test this, we can use a fine pair of scissors to cut the aril just before the explosion event is likely to happen and then measure the dispersibility. If the manipulated pod disperses more than the sham pod where the aril is not damaged, we can conclude that the aril prevents dispersion via explosion, likely by dissipating away the kinetic energy.  \n",
    "\n",
    "\n",
    "Another puzzling thing is that the aril is brightly colored. So much so that there is a wide variation of colors amongst the sister species. This leads us to ask,  what is the functional significance of the aril color? The null is that, the color is a byproduct of development and has no functional value. Given that the aril is important and birds are likely dispersers, is the aril colored to attract birds? The alternate hypothesis is that the visual contrast of the seed diaspore enhances dispersibility. Based on my visual inspection, the color of the aril and seed increase its luminance and chromatic contrast making the seed more conspicuous than the background. To test this, we could paint the seeds and aril in different combinations to enhance or mellow down the different contrasts and see its effect on dispersibility. If seeds with lower contrast disperse less than control and vice versa, our hypothesis is not yet wrong. \n",
    "\n",
    "Now that, we have tried to answer how does the seed disperse? What is the functional significance of the aril? Why is the aril colored? What remains unclear is the diversity of aril color in the family? Different sister species have different colored arils. What is reason for the variation of aril color across environments. The null being, this is just side effect of allopatry. The alternate being, the colors are tuned to “maximize” visual contrast in the lighting conditions of the local environment. To test this, we could manipulate the lighting conditions by making the local environment to be more or less dense in visual clutter. By adding or removing elements in the scene, the light that gets through change dramatically. This severely affects chromatic contrast. Measuring dispersibility of different colored seeds in different clutter scenes would see if there is some sort of index matching. The prediction would be that, those colors which are most distant in color space from a bird vision perspective would be most dispersed. \n",
    "\n",
    "\n",
    "\n",
    "References:\n",
    "\n",
    "http://lifemap.univ-lyon1.fr- for immense help in visualising the tree of life.\n",
    "Levey, Douglas John, Wesley R. Silva, and Mauro Galetti, eds. Seed dispersal and frugivory: ecology, evolution, and conservation. CABI, 2002.\n",
    "Duan, Qiong, Eben Goodale, and Rui-chang Quan. \"Bird fruit preferences match the frequency of fruit colours in tropical Asia.\" Scientific reports 4 (2014): 5627.\n",
    "\n",
    "\n",
    "'''\n",
    "\n",
    "def pois(k,lam):\n",
    "    return (lam**k*np.exp(-lam))/np.math.factorial(k)"
   ]
  },
  {
   "cell_type": "code",
   "execution_count": 77,
   "metadata": {
    "collapsed": false,
    "scrolled": false
   },
   "outputs": [
    {
     "name": "stdout",
     "output_type": "stream",
     "text": [
      "0.909164479512\n",
      "0.0865790566159\n"
     ]
    },
    {
     "data": {
      "image/png": "[encoded data removed]",
      "text/plain": [
       "<matplotlib.figure.Figure at 0x7f5864be9710>"
      ]
     },
     "metadata": {},
     "output_type": "display_data"
    },
    {
     "name": "stdout",
     "output_type": "stream",
     "text": [
      "0.82660926981\n",
      "0.157405551378\n",
      "0.0149868314508\n"
     ]
    },
    {
     "data": {
      "image/png": "[encoded data removed]",
      "text/plain": [
       "<matplotlib.figure.Figure at 0x7f58654a7990>"
      ]
     },
     "metadata": {},
     "output_type": "display_data"
    },
    {
     "name": "stdout",
     "output_type": "stream",
     "text": [
      "0.683282884935\n",
      "0.260225775777\n",
      "0.0495530152092\n"
     ]
    },
    {
     "data": {
      "image/png": "[encoded data removed]",
      "text/plain": [
       "<matplotlib.figure.Figure at 0x7f5865191d90>"
      ]
     },
     "metadata": {},
     "output_type": "display_data"
    },
    {
     "name": "stdout",
     "output_type": "stream",
     "text": [
      "0.467139385213\n",
      "0.355552677469\n",
      "0.135310477405\n",
      "0.0343295128134\n",
      "0.00653228489365\n"
     ]
    },
    {
     "data": {
      "image/png": "[encoded data removed]",
      "text/plain": [
       "<matplotlib.figure.Figure at 0x7f586511a510>"
      ]
     },
     "metadata": {},
     "output_type": "display_data"
    },
    {
     "name": "stdout",
     "output_type": "stream",
     "text": [
      "0.218219205217\n",
      "0.332185318328\n",
      "0.252835412911\n",
      "0.128293340083\n",
      "0.0488238007881\n",
      "0.0148644568571\n"
     ]
    },
    {
     "data": {
      "image/png": "[encoded data removed]",
      "text/plain": [
       "<matplotlib.figure.Figure at 0x7f586529f4d0>"
      ]
     },
     "metadata": {},
     "output_type": "display_data"
    },
    {
     "name": "stdout",
     "output_type": "stream",
     "text": [
      "0.0480504893911\n",
      "0.145857402708\n",
      "0.221375288725\n",
      "0.223995114627\n",
      "0.16998445829\n",
      "0.10319766521\n",
      "0.0522094696773\n",
      "0.0226402856673\n"
     ]
    },
    {
     "data": {
      "image/png": "[encoded data removed]",
      "text/plain": [
       "<matplotlib.figure.Figure at 0x7f58652636d0>"
      ]
     },
     "metadata": {},
     "output_type": "display_data"
    }
   ],
   "source": [
    "for i in [1,2,4,8,16,32]: #interval size\n",
    "    interval=i\n",
    "    v='e' #letter to look for \n",
    "    c=[]\n",
    "    for i in range(0,len(s),interval):\n",
    "        c.append(s[i:i+interval].count(v)) #count of letter in the interval\n",
    "    # plt.hist(c)\n",
    "    # plt.show()\n",
    "    c=np.array(c)\n",
    "    cm=c.mean()\n",
    "    cv=c.var()\n",
    "    #making a normed histogram\n",
    "    results, edges=np.histogram(c,bins=range(10), normed=True)\n",
    "    binWidth = edges[1] - edges[0]\n",
    "    plt.bar(edges[:-1], results*binWidth, binWidth-.1,color=[0.1,0.1,0.1,0.1])\n",
    "    \n",
    "    #checking if it fits possion\n",
    "    for i in range(max(c)+1):\n",
    "        plt.scatter(i,pois(i,cm),edgecolors=[0,0,0])\n",
    "        print pois(i,cm)\n",
    "    plt.show()"
   ]
  },
  {
   "cell_type": "code",
   "execution_count": null,
   "metadata": {
    "collapsed": true
   },
   "outputs": [],
   "source": []
  }
 ],
 "metadata": {
  "kernelspec": {
   "display_name": "Python 2",
   "language": "python",
   "name": "python2"
  },
  "language_info": {
   "codemirror_mode": {
    "name": "ipython",
    "version": 2
   },
   "file_extension": ".py",
   "mimetype": "text/x-python",
   "name": "python",
   "nbconvert_exporter": "python",
   "pygments_lexer": "ipython2",
   "version": "2.7.6"
  }
 },
 "nbformat": 4,
 "nbformat_minor": 2
}
