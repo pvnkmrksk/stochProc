{
 "cells": [
  {
   "cell_type": "code",
   "execution_count": 40,
   "metadata": {
    "collapsed": false
   },
   "outputs": [
    {
     "name": "stdout",
     "output_type": "stream",
     "text": [
      "Using matplotlib backend: TkAgg\n"
     ]
    }
   ],
   "source": [
    "import numpy as np\n",
    "import pandas as pd\n",
    "import matplotlib.pyplot as plt\n",
    "from numpy import mean, sqrt, square, arange\n",
    "\n",
    "%matplotlib"
   ]
  },
  {
   "cell_type": "code",
   "execution_count": 2,
   "metadata": {
    "collapsed": true
   },
   "outputs": [],
   "source": [
    "def dv(v,dt):\n",
    "    a=np.random.normal()\n",
    "    return (-1*v)*dt + a*np.sqrt(2*dt)"
   ]
  },
  {
   "cell_type": "code",
   "execution_count": 45,
   "metadata": {
    "collapsed": false
   },
   "outputs": [
    {
     "name": "stdout",
     "output_type": "stream",
     "text": [
      "l,k 0 0\n",
      "l,k 1 0\n",
      "l,k 2 0\n",
      "l,k 0 1\n",
      "l,k 1 1\n",
      "l,k 2 1\n"
     ]
    }
   ],
   "source": [
    "#init values\n",
    "t=100 #total sim time\n",
    "# dtl=[0.1,0.01,0.001] #list of dt to be tries\n",
    "dtl=[0.3,0.2,0.1] #list of dt to be tries\n",
    "\n",
    "nsim=100 #number of simulations\n",
    "v0l=[0,10] #list of initial velocity\n",
    "\n",
    "steps=int(t/dt) #number of steps\n",
    "vfull=np.zeros([nsim,steps]) #init a array with the right shape\n",
    "f,ax=plt.subplots(nrows=3,ncols=2,sharex=True,sharey=True)\n",
    "\n",
    "#create a dataframe which every trajectory of every run of every case\n",
    "df=pd.DataFrame(columns=['v0','dt','vfull']) \n",
    "\n",
    "\n",
    "k=rw=0 #init index vars\n",
    "\n",
    "for v0 in v0l:#for a given v0 in the list\n",
    "    l=0\n",
    "    for dt in dtl: #for a given dt in the list\n",
    "        for sim in range(nsim): \n",
    "            v=np.zeros(steps)\n",
    "            t=np.zeros(steps)\n",
    "            v[0]=v0\n",
    "\n",
    "            for i in range(1,steps):\n",
    "                v[i]=v[i-1]+dv(v[i-1],dt)\n",
    "                t[i]=v[i-1]+dt\n",
    "\n",
    "            vfull[sim]=v\n",
    "            \n",
    "        df.loc[rw]=[v0,dt,vfull]\n",
    "#         ax[l,k].hist(vfull[-1,:],bins=np.arange(-4,10,.3))\n",
    "        ax[l,k].hist(vfull[:,-1],bins=np.arange(-4,10,.3))\n",
    "#         rms = sqrt(mean(square(vfull[-1,:])))\n",
    "        rms = sqrt(mean(square(vfull[:,-1])))\n",
    "    \n",
    "        t='v0 : '+str(v0)+'    dt : '+str(dt)+'        rms : '+str(rms)\n",
    "        ax[l,k].set_title(t)\n",
    "\n",
    "        \n",
    "        print \"l,k\",l,k\n",
    "        \n",
    "        l+=1\n",
    "        rw+=1\n",
    "    k+=1\n",
    "\n",
    "plt.show()\n"
   ]
  },
  {
   "cell_type": "code",
   "execution_count": 36,
   "metadata": {
    "collapsed": false
   },
   "outputs": [],
   "source": [
    "plt.hist(df.vfull[0][-1,:], )\n",
    "plt.show()"
   ]
  },
  {
   "cell_type": "code",
   "execution_count": 22,
   "metadata": {
    "collapsed": false
   },
   "outputs": [
    {
     "data": {
      "text/plain": [
       "0    [[10.0, 9.89209834573, 9.92475550079, 9.884787...\n",
       "1    [[10.0, 9.89209834573, 9.92475550079, 9.884787...\n",
       "2    [[10.0, 9.89209834573, 9.92475550079, 9.884787...\n",
       "3    [[10.0, 9.89209834573, 9.92475550079, 9.884787...\n",
       "4    [[10.0, 9.89209834573, 9.92475550079, 9.884787...\n",
       "5    [[10.0, 9.89209834573, 9.92475550079, 9.884787...\n",
       "Name: vfull, dtype: object"
      ]
     },
     "execution_count": 22,
     "metadata": {},
     "output_type": "execute_result"
    }
   ],
   "source": [
    "df.vfull"
   ]
  },
  {
   "cell_type": "code",
   "execution_count": 14,
   "metadata": {
    "collapsed": false
   },
   "outputs": [
    {
     "data": {
      "image/png": "[encoded data removed]",
      "text/plain": [
       "<matplotlib.figure.Figure at 0x7f96d0bafb10>"
      ]
     },
     "metadata": {},
     "output_type": "display_data"
    }
   ],
   "source": [
    "f,ax=plt.subplots(2,2)\n",
    "ax[0,0].scatter(2,3)\n",
    "plt.show()"
   ]
  },
  {
   "cell_type": "code",
   "execution_count": 51,
   "metadata": {
    "collapsed": false
   },
   "outputs": [],
   "source": [
    "f,ax=plt.subplots(nrows=3,ncols=2,sharex=True,sharey=True)"
   ]
  },
  {
   "cell_type": "code",
   "execution_count": null,
   "metadata": {
    "collapsed": false
   },
   "outputs": [],
   "source": [
    "plt.show()"
   ]
  },
  {
   "cell_type": "code",
   "execution_count": 59,
   "metadata": {
    "collapsed": false
   },
   "outputs": [],
   "source": [
    "ax[0,0]=plt.hist(df.vfull[0][:,-1])"
   ]
  },
  {
   "cell_type": "code",
   "execution_count": 54,
   "metadata": {
    "collapsed": false
   },
   "outputs": [
    {
     "data": {
      "text/plain": [
       "array([ 4.23790144,  2.51747258,  3.54637493,  3.0615706 ,  4.42327022,\n",
       "        2.84314239,  2.21185486,  3.25233759,  3.83080257,  4.84949962,\n",
       "        2.12351469,  5.23882879,  4.29629673,  5.04546866,  4.3641327 ,\n",
       "        4.83192875,  3.04337214,  4.51982897,  6.40925258,  4.25087602,\n",
       "        3.59740125,  3.77390345,  2.91606344,  4.22417802,  4.66032536,\n",
       "        3.89334652,  3.44275007,  4.19559403,  4.93594197,  3.01211133,\n",
       "        3.46913896,  4.00766958,  3.16440859,  4.4270934 ,  4.44784382,\n",
       "        4.197724  ,  5.49918343,  4.78199488,  3.09860963,  1.88840256,\n",
       "        4.39959497,  3.12881557,  3.88300227,  5.11185463,  2.95814674,\n",
       "        3.01170117,  2.16974909,  3.62194831,  3.81695265,  3.56251496,\n",
       "        3.0273529 ,  2.77573037,  4.30589306,  4.23074132,  0.56006934,\n",
       "        4.81167035,  3.03809212,  2.24833991,  5.94825668,  3.63221059,\n",
       "        2.45773646,  3.96720349,  3.46700847,  2.39254749,  2.9242232 ,\n",
       "        3.76496826,  4.4930088 ,  4.5085156 ,  3.82619074,  4.06774511,\n",
       "        4.44408739,  3.02705387,  3.74345762,  3.05450508,  2.7376525 ,\n",
       "        3.20631197,  3.98743379,  3.39327525,  3.19552666,  4.67210854,\n",
       "        5.15212724,  3.95577981,  4.07609397,  3.60352922,  1.51911259,\n",
       "        4.92061149,  3.79557767,  4.0106026 ,  2.89124535,  3.27769907,\n",
       "        2.26993855,  4.28258955,  3.25076848,  5.28298495,  4.42510627,\n",
       "        4.27996468,  3.32878487,  3.54262029,  2.03751086,  2.48714782])"
      ]
     },
     "execution_count": 54,
     "metadata": {},
     "output_type": "execute_result"
    }
   ],
   "source": [
    "df.vfull[0][:,-1]"
   ]
  },
  {
   "cell_type": "code",
   "execution_count": 57,
   "metadata": {
    "collapsed": false
   },
   "outputs": [],
   "source": [
    "a=np.zeros([4,6])\n",
    "a[2]=3"
   ]
  },
  {
   "cell_type": "code",
   "execution_count": 58,
   "metadata": {
    "collapsed": false
   },
   "outputs": [
    {
     "data": {
      "text/plain": [
       "array([[ 0.,  0.,  0.,  0.,  0.,  0.],\n",
       "       [ 0.,  0.,  0.,  0.,  0.,  0.],\n",
       "       [ 3.,  3.,  3.,  3.,  3.,  3.],\n",
       "       [ 0.,  0.,  0.,  0.,  0.,  0.]])"
      ]
     },
     "execution_count": 58,
     "metadata": {},
     "output_type": "execute_result"
    }
   ],
   "source": [
    "a"
   ]
  },
  {
   "cell_type": "code",
   "execution_count": null,
   "metadata": {
    "collapsed": true
   },
   "outputs": [],
   "source": []
  }
 ],
 "metadata": {
  "kernelspec": {
   "display_name": "Python 2",
   "language": "python",
   "name": "python2"
  },
  "language_info": {
   "codemirror_mode": {
    "name": "ipython",
    "version": 2
   },
   "file_extension": ".py",
   "mimetype": "text/x-python",
   "name": "python",
   "nbconvert_exporter": "python",
   "pygments_lexer": "ipython2",
   "version": "2.7.6"
  }
 },
 "nbformat": 4,
 "nbformat_minor": 2
}
